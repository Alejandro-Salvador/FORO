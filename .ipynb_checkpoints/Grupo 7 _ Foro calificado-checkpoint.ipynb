{
 "cells": [
  {
   "cell_type": "markdown",
   "metadata": {},
   "source": [
    "# LA DATA VERTE\n",
    "Grupo 7:\n",
    " - Romulo Alejandro Salvador Cama     20190310\n",
    " - Pedro Daniel Velasquez Gonzales    20170382\n",
    " - Erik David Farfán Florián          20160229\n",
    "## Lectura de datos utilizando API's\n",
    "\n",
    "Devuelve un conjunto de datos que contiene múltiples indicadores ambientales (emisiones de CO2, temperatura media, etc.) en formato CSV.\n",
    "Extrajimos la informacion utilizando API's del siguiente link:\n",
    "https://ladataverte.fr/\n",
    "\n",
    "Observaciones:\n",
    "No fue necesario loguearse, ya que no se requieren apikeys\n",
    " "
   ]
  },
  {
   "cell_type": "markdown",
   "metadata": {},
   "source": [
    "Se hizo un ejemplo utilizando las siguientes columnas:\n",
    "\n",
    " - \"place\" : contiene la ubicación del evento\n",
    " - \"datetime\" : la fecha del evento\n",
    " - \"Emission de CO2\" :  cantidad de emision en CO2\n",
    " - \"Température moyenne\" : temperatura\n",
    "\n",
    "Se utilizo la siguiente API:\n",
    "http://ladataverte.fr/api/1.0/data_points\n",
    "\n",
    "Especificando los indicadores:\n",
    "id_indicators[]=1&id_indicators[]=4&childrensOf=13000000&type_place[]=country&from=2000-01-01&to=2000-12-31\n",
    "\n",
    "Teniendo como url de lectura lo siguiente:\n",
    "**http://ladataverte.fr/api/1.0/data_points?id_indicators[]=1&id_indicators[]=4&childrensOf=13000000&type_place[]=country&from=2000-01-01&to=2000-12-31**"
   ]
  },
  {
   "cell_type": "markdown",
   "metadata": {},
   "source": [
    "Importamos las siguientes librerías:"
   ]
  },
  {
   "cell_type": "code",
   "execution_count": 28,
   "metadata": {},
   "outputs": [],
   "source": [
    "from urllib.request import urlopen\n",
    "import json"
   ]
  },
  {
   "cell_type": "markdown",
   "metadata": {},
   "source": [
    "Iniciamos los procedimientos para extraer los datos:"
   ]
  },
  {
   "cell_type": "code",
   "execution_count": null,
   "metadata": {},
   "outputs": [],
   "source": [
    "# En \"url\" guardamos la cadena que contine la API a utilizar\n",
    "url=\"http://ladataverte.fr/api/1.0/data_points?id_indicators[]=1&id_indicators[]=4&childrensOf=13000000&type_place[]=country&from=2000-01-01&to=2000-12-31\"\n",
    "# Abrimos una conexion al url y guardamos su contenido en el objeto \"uclient\", \"urlopen\" codifica el contenido\n",
    "uclient=urlopen(url)\n",
    "# Leemos el contenido\n",
    "responsehtml=uclient.read()\n",
    "# Cerramos la conexion creada anteriormente\n",
    "uclient.close()\n",
    "# Procedemos a decodificar y guardar el contenido en el objeto \"data\"\n",
    "data = responsehtml.decode()\n",
    "# Imprimimos el resultado\n",
    "data"
   ]
  },
  {
   "cell_type": "markdown",
   "metadata": {},
   "source": [
    "Exploramos la estructura de lo obtenido:"
   ]
  },
  {
   "cell_type": "code",
   "execution_count": 30,
   "metadata": {},
   "outputs": [
    {
     "name": "stdout",
     "output_type": "stream",
     "text": [
      "<class 'list'>\n"
     ]
    },
    {
     "data": {
      "text/plain": [
       "str"
      ]
     },
     "execution_count": 30,
     "metadata": {},
     "output_type": "execute_result"
    }
   ],
   "source": [
    "# EStructura de la data\n",
    "print(type(data.split(\"\\n\")))\n",
    "# Estructura de el primer elemento de la lista\n",
    "type(data.split(\"\\n\")[0])"
   ]
  },
  {
   "cell_type": "code",
   "execution_count": 1,
   "metadata": {},
   "outputs": [],
   "source": [
    "#data.split(\"\\n\")"
   ]
  },
  {
   "cell_type": "markdown",
   "metadata": {},
   "source": [
    "Un metodo para llevar los datos extraídos a un csv:"
   ]
  },
  {
   "cell_type": "code",
   "execution_count": 40,
   "metadata": {},
   "outputs": [],
   "source": [
    "import pandas as pd\n",
    "df = pd.DataFrame(data.split(\"\\n\"))\n",
    "df.to_csv('LaDataverte.csv', index=True)"
   ]
  },
  {
   "cell_type": "markdown",
   "metadata": {},
   "source": [
    "# ALEJANDRO:\n",
    "primera edicion"
   ]
  }
 ],
 "metadata": {
  "kernelspec": {
   "display_name": "Python 3",
   "language": "python",
   "name": "python3"
  },
  "language_info": {
   "codemirror_mode": {
    "name": "ipython",
    "version": 3
   },
   "file_extension": ".py",
   "mimetype": "text/x-python",
   "name": "python",
   "nbconvert_exporter": "python",
   "pygments_lexer": "ipython3",
   "version": "3.8.5"
  }
 },
 "nbformat": 4,
 "nbformat_minor": 4
}
